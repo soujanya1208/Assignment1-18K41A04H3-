{
  "nbformat": 4,
  "nbformat_minor": 0,
  "metadata": {
    "colab": {
      "name": "Copy of Welcome To Colaboratory",
      "provenance": [],
      "collapsed_sections": [],
      "include_colab_link": true
    },
    "kernelspec": {
      "display_name": "Python 3",
      "name": "python3"
    }
  },
  "cells": [
    {
      "cell_type": "markdown",
      "metadata": {
        "id": "view-in-github",
        "colab_type": "text"
      },
      "source": [
        "<a href=\"https://colab.research.google.com/github/soujanya1208/Assignment1-18K41A04H3-/blob/master/Copy_of_Welcome_To_Colaboratory.ipynb\" target=\"_parent\"><img src=\"https://colab.research.google.com/assets/colab-badge.svg\" alt=\"Open In Colab\"/></a>"
      ]
    },
    {
      "cell_type": "markdown",
      "metadata": {
        "id": "RVlysaxvhQAf",
        "colab_type": "text"
      },
      "source": [
        " Develop a code for below scenario"
      ]
    },
    {
      "cell_type": "code",
      "metadata": {
        "id": "kLdJnfGhhUo-",
        "colab_type": "code",
        "colab": {
          "base_uri": "https://localhost:8080/",
          "height": 68
        },
        "outputId": "28c4b12f-421c-4d9b-9d74-c5aba6524590"
      },
      "source": [
        " \n",
        "d={0:\"monkey\",1:\"rooster\",2:\"dog\",\n",
        " \n",
        "3:\"pig\",4:\"rat\",5:\"ox\",6:\"tiger\",\n",
        " \n",
        "7:\"rabbit\",8:\"tiger\",9:\"snake\",10:\"horse\"}\n",
        " \n",
        "year=int(input(\"enter year:\"))\n",
        " \n",
        "print(year)\n",
        " \n",
        "r=year%12\n",
        " \n",
        "if r in d:\n",
        " \n",
        "  print(d[r])"
      ],
      "execution_count": null,
      "outputs": [
        {
          "output_type": "stream",
          "text": [
            "enter year:2012\n",
            "2012\n",
            "tiger\n"
          ],
          "name": "stdout"
        }
      ]
    },
    {
      "cell_type": "markdown",
      "metadata": {
        "id": "FAsWWqTfhw97",
        "colab_type": "text"
      },
      "source": [
        " A Quick Fox Transport Co. wants to develop an application for calculating amount based on distance and weight of goods. The charges (Amount) to be calculated as per rates given below. \n",
        " \n",
        "Input:  Distance to be travel: 520     \n",
        "Weight of the goods: 50 \n",
        "Output: Amount to be charged: 3120 /-"
      ]
    },
    {
      "cell_type": "code",
      "metadata": {
        "id": "ViP5jodEh7Cz",
        "colab_type": "code",
        "colab": {
          "base_uri": "https://localhost:8080/",
          "height": 68
        },
        "outputId": "f794c460-4121-43b2-8b1a-3a08ec6a6787"
      },
      "source": [
        " \n",
        "dis=int(input(\"enter dis:\"))\n",
        " \n",
        "weg=int(input(\"enter weg:\"))\n",
        " \n",
        "if(dis>=500 and weg>=100):\n",
        " \n",
        "  amount=dis*5\n",
        " \n",
        "  print(amount)\n",
        " \n",
        "elif(dis>=500 and weg>=10 and weg<100):\n",
        " \n",
        "  amount=dis*6\n",
        " \n",
        "  print(amount)\n",
        " \n",
        "elif(dis>=500 and weg<10):\n",
        " \n",
        "  amount=dis*7\n",
        " \n",
        "  print(amount)\n",
        " \n",
        "else:\n",
        " \n",
        "  if(dis<500 and weg>=100):\n",
        " \n",
        "    amount=dis*8\n",
        " \n",
        "    print(amount)\n",
        " \n",
        "  else:\n",
        " \n",
        "   amount=dis*5\n",
        " \n",
        "   print(amount)"
      ],
      "execution_count": null,
      "outputs": [
        {
          "output_type": "stream",
          "text": [
            "enter dis:520\n",
            "enter weg:50\n",
            "3120\n"
          ],
          "name": "stdout"
        }
      ]
    },
    {
      "cell_type": "markdown",
      "metadata": {
        "id": "b8aLcYMoi0t3",
        "colab_type": "text"
      },
      "source": [
        " \n",
        "The Entertainment Paradise\n",
        " \n",
        " A theater in Delhi wants to develop a computerized Booking System. The theater offers different types of seats. The Ticket rates are- Stalls- Rs. 625/-, Circle- Rs.750/-, Upper Class- Rs.850/- and Box- Rs.1000/-. A discount is given 10% of total amount if tickets are purchased on Cash. In case of credit card holders 5% discount is given. \n",
        "Input:  Type of Seat: Circle    \n",
        "Payment mode: cash\n",
        "Output: Cost of ticket: 675"
      ]
    },
    {
      "cell_type": "code",
      "metadata": {
        "id": "dMQaTGGxjph1",
        "colab_type": "code",
        "colab": {
          "base_uri": "https://localhost:8080/",
          "height": 68
        },
        "outputId": "6d75a893-590c-41c0-ad35-5082d8eb6cac"
      },
      "source": [
        " \n",
        "seat=str(input(\"type of seat:\"))\n",
        " \n",
        "payment=str(input(\"payment cash or card:\"))\n",
        " \n",
        "if (payment==\"cash\"):\n",
        "  if(seat==\"stall\"):\n",
        "    d=625-(625*10/100)\n",
        "    print(d)\n",
        "  elif(seat==\"circle\"):\n",
        "    d=750-(750*10/100)\n",
        "    print(d)\n",
        "  elif(seat==\"uppercalss\"):\n",
        "    d=850-(850*10/100)\n",
        "    print(d)\n",
        "  elif(seat==\"box\"):\n",
        "    d=1000-(1000*10/100)\n",
        "    print(d)\n",
        "else:\n",
        "  if(seat==\"stall\"):\n",
        "    d=625-(625*5/100)\n",
        "    print(d)\n",
        "  elif(seat==\"circle\"):\n",
        "    d=750-(750*5/100)\n",
        "    print(d)\n",
        "  elif(seat==\"uppercalss\"):\n",
        "    d=850-(850*5/100)\n",
        "    print(d)\n",
        "  elif(seat==\"box\"):\n",
        "    d=1000-(1000*5/100)\n",
        "    print(d)"
      ],
      "execution_count": null,
      "outputs": [
        {
          "output_type": "stream",
          "text": [
            "type of seat:circle\n",
            "payment cash or card:cash\n",
            "675.0\n"
          ],
          "name": "stdout"
        }
      ]
    },
    {
      "cell_type": "markdown",
      "metadata": {
        "id": "D6djygyjmBq_",
        "colab_type": "text"
      },
      "source": [
        " Develop a program that calculates the energy needed to heat water from an initial temperature to a final temperature. Your program should prompt the user to enter the amount of water in kilograms and the initial and final temperatures of the water. The formula to compute the energy is \n",
        "Q = M * (finalTemperature  initialTemperature) * 4184.\n",
        "where M is the weight of water in kilograms, temperatures are in degrees Celsius,  and energy Q is measured in joules. (L6)"
      ]
    },
    {
      "cell_type": "code",
      "metadata": {
        "id": "G9VkRRwJmD6s",
        "colab_type": "code",
        "colab": {
          "base_uri": "https://localhost:8080/",
          "height": 85
        },
        "outputId": "1d6c4fe7-2af7-49e9-d626-65776ac80ba2"
      },
      "source": [
        " \n",
        "kg=int(input(\"enter water in kg:\"))\n",
        " \n",
        "m=kg\n",
        " \n",
        "initemp=float(input(\"enter ini temp:\"))\n",
        " \n",
        "fintemp=float(input(\"enter fin temp:\"))\n",
        " \n",
        "Q=m*(fintemp-initemp)*4184\n",
        " \n",
        "print(Q)"
      ],
      "execution_count": null,
      "outputs": [
        {
          "output_type": "stream",
          "text": [
            "enter water in kg:50\n",
            "enter ini temp:37\n",
            "enter fin temp:42\n",
            "1046000.0\n"
          ],
          "name": "stdout"
        }
      ]
    },
    {
      "cell_type": "markdown",
      "metadata": {
        "id": "YohEFLQYmd9-",
        "colab_type": "text"
      },
      "source": [
        " Develop a program that prompts user to enter month and  print \n",
        "Winter  -   December ,January and February\n",
        "Spring  -   March ,April and May\n",
        "Summer  --- June ,July, August\n",
        "Autumn   -- September ,October, November"
      ]
    },
    {
      "cell_type": "code",
      "metadata": {
        "id": "2F5TnMrBnj77",
        "colab_type": "code",
        "colab": {
          "base_uri": "https://localhost:8080/",
          "height": 51
        },
        "outputId": "d6c6ebc7-652a-4a8c-9b6a-27efdf3bea1c"
      },
      "source": [
        " \n",
        "z=str(input(\"entermonth:\"))\n",
        " \n",
        " if z in (\"dec\",\"jan\",\"feb\"):\n",
        " \n",
        "    print(\"winter\")\n",
        " \n",
        " elif z in (\"mar\",\"apl\",\"may\"):\n",
        " \n",
        "    print(\"spring\")\n",
        " \n",
        " elif z in (\"jun\",\"july\",\"aug\"):\n",
        "   print(\"summer\")\n",
        " \n",
        " elif z in (\"sep\",\"oct\",\"nov\"):\n",
        "   print(\"autum\")"
      ],
      "execution_count": null,
      "outputs": [
        {
          "output_type": "stream",
          "text": [
            "entermonth:apl\n",
            "spring\n"
          ],
          "name": "stdout"
        }
      ]
    },
    {
      "cell_type": "markdown",
      "metadata": {
        "id": "gtfs7bKWn1KH",
        "colab_type": "text"
      },
      "source": [
        " Body Mass Index"
      ]
    },
    {
      "cell_type": "code",
      "metadata": {
        "id": "BgQx1k2bn9kU",
        "colab_type": "code",
        "colab": {
          "base_uri": "https://localhost:8080/",
          "height": 68
        },
        "outputId": "9553fec2-5638-4a1d-cbbe-c16b4c09afd3"
      },
      "source": [
        " \n",
        "#python 3.7.1\n",
        " \n",
        "kg=float(input(\"enter weight in kg:\"))\n",
        " \n",
        "meter=float(input(\"enter height in meters:\"))\n",
        " \n",
        "bmi=kg/(meter*meter)\n",
        " \n",
        "if(bmi<18.5):\n",
        "  print(\"underweight\")\n",
        "elif(18.5<=bmi<25.0):\n",
        "  print(\"normal\")\n",
        "elif(25.0<=bmi<30.0):\n",
        "  print(\"overweight\")\n",
        "elif(30.0<=bmi):\n",
        "  print(\"obese\")"
      ],
      "execution_count": null,
      "outputs": [
        {
          "output_type": "stream",
          "text": [
            "enter weight in kg:60\n",
            "enter height in meters:5\n",
            "underweight\n"
          ],
          "name": "stdout"
        }
      ]
    },
    {
      "cell_type": "markdown",
      "metadata": {
        "id": "7CCa9TefoPDS",
        "colab_type": "text"
      },
      "source": [
        " Write a program that reads an integer between 100 and 1000 and adds all the digits in the integer  (   ex: input 745   # output =16    (7+4+5) )"
      ]
    },
    {
      "cell_type": "code",
      "metadata": {
        "id": "J7w6tcdfoTxj",
        "colab_type": "code",
        "colab": {
          "base_uri": "https://localhost:8080/",
          "height": 71
        },
        "outputId": "4faba4d0-aa4e-43c0-e0a9-dd7c6e22930c"
      },
      "source": [
        " \n",
        "#python 3.7.1\n",
        " \n",
        "num=int(input(\"enter number in between 100 to 1000:\"))\n",
        " \n",
        "x=num//1000\n",
        " \n",
        "x1=(num-x*1000)//100\n",
        " \n",
        "x2=(num-x*1000-x1*100)//10\n",
        " \n",
        "x3=num-x*1000-x1*100-x2*10\n",
        " \n",
        "print(x+x1+x2+x3)"
      ],
      "execution_count": null,
      "outputs": [
        {
          "output_type": "stream",
          "text": [
            "enter number in between 100 to 1000:745\n",
            "16\n"
          ],
          "name": "stdout"
        }
      ]
    },
    {
      "cell_type": "markdown",
      "metadata": {
        "id": "l-64ePngod8-",
        "colab_type": "text"
      },
      "source": [
        " \n",
        "Print all palindrome numbers between 1 to 1000."
      ]
    },
    {
      "cell_type": "code",
      "metadata": {
        "id": "QjtPD5KSotOY",
        "colab_type": "code",
        "colab": {
          "base_uri": "https://localhost:8080/",
          "height": 1000
        },
        "outputId": "13c599c0-d00f-4ad5-a26f-77274ebebf7d"
      },
      "source": [
        " \n",
        "for n in range(1,1000):\n",
        "  sum=0\n",
        "  temp=n\n",
        "  while(n!=0):\n",
        "   r=n%10\n",
        "   n=n//10\n",
        "   sum=sum*10+r\n",
        "  if(sum==temp):\n",
        "   print(temp)"
      ],
      "execution_count": null,
      "outputs": [
        {
          "output_type": "stream",
          "text": [
            "1\n",
            "2\n",
            "3\n",
            "4\n",
            "5\n",
            "6\n",
            "7\n",
            "8\n",
            "9\n",
            "11\n",
            "22\n",
            "33\n",
            "44\n",
            "55\n",
            "66\n",
            "77\n",
            "88\n",
            "99\n",
            "101\n",
            "111\n",
            "121\n",
            "131\n",
            "141\n",
            "151\n",
            "161\n",
            "171\n",
            "181\n",
            "191\n",
            "202\n",
            "212\n",
            "222\n",
            "232\n",
            "242\n",
            "252\n",
            "262\n",
            "272\n",
            "282\n",
            "292\n",
            "303\n",
            "313\n",
            "323\n",
            "333\n",
            "343\n",
            "353\n",
            "363\n",
            "373\n",
            "383\n",
            "393\n",
            "404\n",
            "414\n",
            "424\n",
            "434\n",
            "444\n",
            "454\n",
            "464\n",
            "474\n",
            "484\n",
            "494\n",
            "505\n",
            "515\n",
            "525\n",
            "535\n",
            "545\n",
            "555\n",
            "565\n",
            "575\n",
            "585\n",
            "595\n",
            "606\n",
            "616\n",
            "626\n",
            "636\n",
            "646\n",
            "656\n",
            "666\n",
            "676\n",
            "686\n",
            "696\n",
            "707\n",
            "717\n",
            "727\n",
            "737\n",
            "747\n",
            "757\n",
            "767\n",
            "777\n",
            "787\n",
            "797\n",
            "808\n",
            "818\n",
            "828\n",
            "838\n",
            "848\n",
            "858\n",
            "868\n",
            "878\n",
            "888\n",
            "898\n",
            "909\n",
            "919\n",
            "929\n",
            "939\n",
            "949\n",
            "959\n",
            "969\n",
            "979\n",
            "989\n",
            "999\n"
          ],
          "name": "stdout"
        }
      ]
    },
    {
      "cell_type": "markdown",
      "metadata": {
        "id": "DAZ-c1LxpL_w",
        "colab_type": "text"
      },
      "source": [
        " Print all Armstrong numbers between 1 to 1000."
      ]
    },
    {
      "cell_type": "code",
      "metadata": {
        "id": "mEiLrF2opQ6V",
        "colab_type": "code",
        "colab": {
          "base_uri": "https://localhost:8080/",
          "height": 102
        },
        "outputId": "c7de2665-e8c5-431d-cab2-842d1acc7198"
      },
      "source": [
        " \n",
        "for n in range(1,1000):\n",
        " \n",
        "  sum=0\n",
        " \n",
        "  temp=n\n",
        " \n",
        "  while n>0 :\n",
        " \n",
        "   r=n%10\n",
        " \n",
        "   sum=sum+r*r*r\n",
        " \n",
        "   n=n//10\n",
        " \n",
        "  if sum==temp:\n",
        " \n",
        "   print(sum)"
      ],
      "execution_count": null,
      "outputs": [
        {
          "output_type": "stream",
          "text": [
            "1\n",
            "153\n",
            "370\n",
            "371\n",
            "407\n"
          ],
          "name": "stdout"
        }
      ]
    },
    {
      "cell_type": "markdown",
      "metadata": {
        "id": "2tMRcE4epdnS",
        "colab_type": "text"
      },
      "source": [
        " Write a Java program which iterates the integers from 1 to 100. For multiples of three print \"Fizz\" instead of the number and print \"Buzz\" for the multiples of five. When number is divided by both three and five, print \"fizz buzz\"."
      ]
    },
    {
      "cell_type": "code",
      "metadata": {
        "id": "siQacEQ4pfdB",
        "colab_type": "code",
        "colab": {
          "base_uri": "https://localhost:8080/",
          "height": 799
        },
        "outputId": "9b598899-ea28-4ece-962f-b21227c66ba9"
      },
      "source": [
        " \n",
        "for i in range(1,100):\n",
        "  if(i%3==0 and i%5==0):\n",
        "    print(\"Fizz Buzz\")\n",
        "  elif(i%3==0):\n",
        "    print(\"Fizz\")\n",
        "  elif(i%5==0):\n",
        "    print(\"Buzz\")"
      ],
      "execution_count": null,
      "outputs": [
        {
          "output_type": "stream",
          "text": [
            "Fizz\n",
            "Buzz\n",
            "Fizz\n",
            "Fizz\n",
            "Buzz\n",
            "Fizz\n",
            "Fizz Buzz\n",
            "Fizz\n",
            "Buzz\n",
            "Fizz\n",
            "Fizz\n",
            "Buzz\n",
            "Fizz\n",
            "Fizz Buzz\n",
            "Fizz\n",
            "Buzz\n",
            "Fizz\n",
            "Fizz\n",
            "Buzz\n",
            "Fizz\n",
            "Fizz Buzz\n",
            "Fizz\n",
            "Buzz\n",
            "Fizz\n",
            "Fizz\n",
            "Buzz\n",
            "Fizz\n",
            "Fizz Buzz\n",
            "Fizz\n",
            "Buzz\n",
            "Fizz\n",
            "Fizz\n",
            "Buzz\n",
            "Fizz\n",
            "Fizz Buzz\n",
            "Fizz\n",
            "Buzz\n",
            "Fizz\n",
            "Fizz\n",
            "Buzz\n",
            "Fizz\n",
            "Fizz Buzz\n",
            "Fizz\n",
            "Buzz\n",
            "Fizz\n",
            "Fizz\n"
          ],
          "name": "stdout"
        }
      ]
    },
    {
      "cell_type": "markdown",
      "metadata": {
        "id": "MABm-ck-puXL",
        "colab_type": "text"
      },
      "source": [
        " \n",
        "Spider Problem: A spider present at the bottom of the well of height H, needs to get out of it, using the slippery wall of the well. It decides to climb up the well; it goes up U meters and slips down D meters in one single step. So, in each step it covers (U-D) meters, and if the spider gets out of the well by covering U meters in the last step it doesnt a slip back. For example, if the spider climbs up 5 meters and slips down by 3 meters in a single step, it covers (U - D) m in each step and 96 m in 48 steps, but in the 49th step it climbs up 5 m and reaches out of the well and it will not slip down and the step is counted as one step.     \n",
        "Input: Each test case will contain 3 integers H height of the well, next U meters climbs up in each step, and the last D meters slips down in each step.\n",
        "Output:  The number of steps 'N' required to get out of the well.\n",
        "Example 1:\n",
        "    Input:                      Ouput \n",
        "    200 50 1                        5\n",
        "    Example 2:\n",
        "    Input:                      Output\n",
        "    500 20 15                      98"
      ]
    },
    {
      "cell_type": "code",
      "metadata": {
        "id": "Awytm0_epz3C",
        "colab_type": "code",
        "colab": {
          "base_uri": "https://localhost:8080/",
          "height": 85
        },
        "outputId": "16c004c5-e9bf-4315-92f6-c662b21b18a6"
      },
      "source": [
        " \n",
        "h=int(input(\"enter height:\"))\n",
        "u=int(input(\"enter meter climbed by spider:\"))\n",
        "d=int(input(\"enter meter slipped by spider:\"))\n",
        "v=0\n",
        "while h>=u:\n",
        "  v=v+1\n",
        "  h=h-(u-d)\n",
        "v=v+1\n",
        "print(\"number of steps:\",v)"
      ],
      "execution_count": null,
      "outputs": [
        {
          "output_type": "stream",
          "text": [
            "enter height:500\n",
            "enter meter climbed by spider:20\n",
            "enter meter slipped by spider:15\n",
            "number of steps: 98\n"
          ],
          "name": "stdout"
        }
      ]
    }
  ]
}