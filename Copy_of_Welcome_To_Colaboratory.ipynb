{
  "nbformat": 4,
  "nbformat_minor": 0,
  "metadata": {
    "colab": {
      "name": "Copy of Welcome To Colaboratory",
      "provenance": [],
      "collapsed_sections": [],
      "include_colab_link": true
    },
    "kernelspec": {
      "display_name": "Python 3",
      "name": "python3"
    }
  },
  "cells": [
    {
      "cell_type": "markdown",
      "metadata": {
        "id": "view-in-github",
        "colab_type": "text"
      },
      "source": [
        "<a href=\"https://colab.research.google.com/github/soujanya1208/Assignment1-18K41A04H3-/blob/master/Copy_of_Welcome_To_Colaboratory.ipynb\" target=\"_parent\"><img src=\"https://colab.research.google.com/assets/colab-badge.svg\" alt=\"Open In Colab\"/></a>"
      ]
    },
    {
      "cell_type": "markdown",
      "metadata": {
        "colab_type": "text",
        "id": "5fCEDCU_qrC0"
      },
      "source": [
        "<p><img alt=\"Colaboratory logo\" height=\"45px\" src=\"/img/colab_favicon.ico\" align=\"left\" hspace=\"10px\" vspace=\"0px\"></p>\n",
        "\n",
        "<h1>What is Colaboratory?</h1>\n",
        "\n",
        "Colaboratory, or \"Colab\" for short, allows you to write and execute Python in your browser, with \n",
        "- Zero configuration required\n",
        "- Free access to GPUs\n",
        "- Easy sharing\n",
        "\n",
        "Whether you're a **student**, a **data scientist** or an **AI researcher**, Colab can make your work easier. Watch [Introduction to Colab](https://www.youtube.com/watch?v=inN8seMm7UI) to learn more, or just get started below!"
      ]
    },
    {
      "cell_type": "code",
      "metadata": {
        "colab_type": "code",
        "id": "-gE-Ez1qtyIA",
        "colab": {
          "base_uri": "https://localhost:8080/",
          "height": 51
        },
        "outputId": "7c9229fb-6739-432e-a399-cc84c91fd3b5"
      },
      "source": [
        " \n",
        "a, b, c=map(int,input().split())\n",
        " \n",
        "s=(a+b+c)/2\n",
        " \n",
        "area=((s)*(s-a)*(s-b)*(s-c))**0.5\n",
        " \n",
        "print(area)"
      ],
      "execution_count": null,
      "outputs": [
        {
          "output_type": "stream",
          "text": [
            "23 46 41\n",
            "470.914004888366\n"
          ],
          "name": "stdout"
        }
      ]
    },
    {
      "cell_type": "markdown",
      "metadata": {
        "id": "Ecn9Fk_xjPpt",
        "colab_type": "text"
      },
      "source": [
        " Take a string from end user and check if the value is palindrome or not"
      ]
    },
    {
      "cell_type": "code",
      "metadata": {
        "id": "GL2PpLTyjQzb",
        "colab_type": "code",
        "colab": {
          "base_uri": "https://localhost:8080/",
          "height": 51
        },
        "outputId": "495586ee-c5f2-4d47-ea04-b7c0bd4c0b1b"
      },
      "source": [
        " \n",
        "str=input(\"enter name:\")\n",
        "if(str==str[: :-1]):\n",
        "  print(\"it is palindrome \")\n",
        "else:\n",
        "  print(\"it is not palindrome\")"
      ],
      "execution_count": null,
      "outputs": [
        {
          "output_type": "stream",
          "text": [
            "enter name:madam\n",
            "it is palindrome \n"
          ],
          "name": "stdout"
        }
      ]
    },
    {
      "cell_type": "markdown",
      "metadata": {
        "id": "2OEwNXxOkLeI",
        "colab_type": "text"
      },
      "source": [
        " Write a program that reads a year from the user and displays a message \n",
        "Indicating whether or not it is a leap year."
      ]
    },
    {
      "cell_type": "code",
      "metadata": {
        "id": "HjC7E-PgkRa0",
        "colab_type": "code",
        "colab": {
          "base_uri": "https://localhost:8080/",
          "height": 51
        },
        "outputId": "02b9a3c5-0e35-4476-b6df-881795d868fa"
      },
      "source": [
        " \n",
        "year=int(input(\"enter year\"))\n",
        " \n",
        "if(year%4==0):\n",
        " \n",
        "  print(\"it is a leap year\")\n",
        " \n",
        "else:\n",
        " \n",
        "  print(\"it is not a leap year\")"
      ],
      "execution_count": null,
      "outputs": [
        {
          "output_type": "stream",
          "text": [
            "enter year2016\n",
            "it is a leap year\n"
          ],
          "name": "stdout"
        }
      ]
    },
    {
      "cell_type": "markdown",
      "metadata": {
        "id": "zGCxFNwbkb1d",
        "colab_type": "text"
      },
      "source": [
        "  Space To Hyphen problem \n",
        "Take a string as input, and replaces spaces    with hyphens -, and returns a string.\n",
        "Input:  This program converts spaces into hyphen\n",
        "      Output:      This-program-converts-spaces-into-hyphen"
      ]
    },
    {
      "cell_type": "code",
      "metadata": {
        "id": "Myaaj1a1khQs",
        "colab_type": "code",
        "colab": {
          "base_uri": "https://localhost:8080/",
          "height": 71
        },
        "outputId": "dd8f81a5-5630-415c-fb5d-3009952871a3"
      },
      "source": [
        " \n",
        "string=input(\"Enter string:\")\n",
        " \n",
        "string=string.replace(' n','-')\n",
        " \n",
        "print(string)"
      ],
      "execution_count": null,
      "outputs": [
        {
          "output_type": "stream",
          "text": [
            "Enter string:\"This program converts spaces into hyphen \"\n",
            "\"This-program-converts-spaces-into-hyphen-\"\n"
          ],
          "name": "stdout"
        }
      ]
    },
    {
      "cell_type": "markdown",
      "metadata": {
        "id": "jrcF5jVQmI4S",
        "colab_type": "text"
      },
      "source": [
        " Unique Sort problem \n",
        "Take a string as input that accepts a comma separated sequence of words as input and prints the unique words in sorted form (alphanumerically).\n",
        "*Input*: orange, white, red, cyan, green, magenta, cyan, pink, white\n",
        "*Output*: cyan, green, magenta, orange, pink, red, white"
      ]
    },
    {
      "cell_type": "code",
      "metadata": {
        "id": "_JI_SBvst_3Z",
        "colab_type": "code",
        "colab": {
          "base_uri": "https://localhost:8080/",
          "height": 71
        },
        "outputId": "1a99d4be-51ac-43ed-8059-8f66d4a0e96f"
      },
      "source": [
        " \n",
        "l=[]\n",
        "l=list(map(str,input().split()))\n",
        "l.sort()\n",
        "for i in range(len(l)):\n",
        "  n=l[i]\n",
        "  print(n,end=',')"
      ],
      "execution_count": null,
      "outputs": [
        {
          "output_type": "stream",
          "text": [
            "orange white red cyan green magneta pink\n",
            "cyan,green,magneta,orange,pink,red,white,"
          ],
          "name": "stdout"
        }
      ]
    },
    {
      "cell_type": "markdown",
      "metadata": {
        "id": "gmHavLnJikMg",
        "colab_type": "text"
      },
      "source": [
        " Tax Calculator\n",
        "Ask the user for their monthly salary. Calculate whether they have to pay tax and if so, how much is that amount .Print the result."
      ]
    },
    {
      "cell_type": "code",
      "metadata": {
        "id": "1jW4SbJCi40q",
        "colab_type": "code",
        "colab": {
          "base_uri": "https://localhost:8080/",
          "height": 51
        },
        "outputId": "7fa446ed-4371-4aa1-ad5b-b0aa33001b15"
      },
      "source": [
        " \n",
        "salary =int(input(\"enter salary\"))\n",
        "if(salary<=250000):\n",
        "  print(\"nill\")\n",
        "elif(salary>250001 and salary<=500000):\n",
        "  t=salary*(5/100)\n",
        "  print(t)\n",
        "elif(salary>500001 and salary<=750000):\n",
        "  t=salary*(10/100)\n",
        "  print(t)\n",
        "elif(salary>750001 and salary<=1000000):\n",
        "  t=salary*(15/100)\n",
        "  print(t)\n",
        "elif(salary>1000001 and salary<=1250000):\n",
        "  t=salary*(20/100)\n",
        "  print(t)\n",
        "elif(salary>1250001 and salary<=1500000):\n",
        "  t=salary*(25/100)\n",
        "  print(t)\n",
        "elif(salary>1500000):\n",
        "  t=salary*(30/100)\n",
        "  print(t)"
      ],
      "execution_count": null,
      "outputs": [
        {
          "output_type": "stream",
          "text": [
            "enter salary250000\n",
            "nill\n"
          ],
          "name": "stdout"
        }
      ]
    },
    {
      "cell_type": "markdown",
      "metadata": {
        "id": "AVJ-Omsnjm8T",
        "colab_type": "text"
      },
      "source": [
        " Take a list of integers as an argument, and converts it into a single integer (return the integer).\n",
        "*Input*: [11, 33, 50]\n",
        "*Output*: 113350"
      ]
    },
    {
      "cell_type": "code",
      "metadata": {
        "id": "7MPpmxgojsdX",
        "colab_type": "code",
        "colab": {
          "base_uri": "https://localhost:8080/",
          "height": 51
        },
        "outputId": "b679e9e7-60db-42d7-d3ec-1fe068d6d410"
      },
      "source": [
        " \n",
        "l =[11,33,50]\n",
        " \n",
        "print(l)\n",
        " \n",
        "x = int(\"\".join(map(str, l)))\n",
        " \n",
        "print(x)"
      ],
      "execution_count": null,
      "outputs": [
        {
          "output_type": "stream",
          "text": [
            "[11, 33, 50]\n",
            "113350\n"
          ],
          "name": "stdout"
        }
      ]
    },
    {
      "cell_type": "markdown",
      "metadata": {
        "id": "_Itns1b5j28j",
        "colab_type": "text"
      },
      "source": [
        " Units of Time\n",
        "Create a program that reads duration from the user as a number of days, hours, minutes, and seconds. Compute and display the total number of seconds represented by this duration."
      ]
    },
    {
      "cell_type": "code",
      "metadata": {
        "id": "4nE5Qbtqj9GB",
        "colab_type": "code",
        "colab": {
          "base_uri": "https://localhost:8080/",
          "height": 102
        },
        "outputId": "5f93b0f6-0d7d-4107-b07f-db607fe6a900"
      },
      "source": [
        " \n",
        "s_per_m = 60\n",
        " \n",
        "s_per_h = 3600\n",
        " \n",
        "s_per_d = 86400\n",
        " \n",
        "d=(int(input()))\n",
        " \n",
        "h=(int(input()))\n",
        " \n",
        "m=(int(input()))\n",
        " \n",
        "s=(int(input()))\n",
        " \n",
        "total_seconds = d*s_per_d\n",
        " \n",
        "total_seconds = total_seconds + ( h*s_per_h)\n",
        " \n",
        "total_seconds = total_seconds + ( m *s_per_m)\n",
        " \n",
        "total_seconds = total_seconds + s\n",
        " \n",
        " \n",
        " \n",
        "print(\"%d\"%(total_seconds))"
      ],
      "execution_count": null,
      "outputs": [
        {
          "output_type": "stream",
          "text": [
            "1\n",
            "0\n",
            "0\n",
            "0\n",
            "86400\n"
          ],
          "name": "stdout"
        }
      ]
    },
    {
      "cell_type": "markdown",
      "metadata": {
        "id": "LrMXTbfFkewt",
        "colab_type": "text"
      },
      "source": [
        " Sort 3 Integers\n",
        "Given three integers (given through user input), sort the numbers using |min| and  |max| functions."
      ]
    },
    {
      "cell_type": "code",
      "metadata": {
        "id": "o-PkSPePkmRf",
        "colab_type": "code",
        "colab": {
          "base_uri": "https://localhost:8080/",
          "height": 51
        },
        "outputId": "f9b069d5-db56-4970-b1e9-764a14da6ab3"
      },
      "source": [
        " \n",
        "l=[]\n",
        " \n",
        "l1=[]\n",
        " \n",
        "l=list(map(int,input().split())) \n",
        " \n",
        "maxi=max(l)\n",
        " \n",
        "mini=min(l)\n",
        " \n",
        "l1.append(maxi)\n",
        " \n",
        "l1.append(mini)\n",
        " \n",
        "print(l1)"
      ],
      "execution_count": null,
      "outputs": [
        {
          "output_type": "stream",
          "text": [
            "5 4 9\n",
            "[9, 4]\n"
          ],
          "name": "stdout"
        }
      ]
    },
    {
      "cell_type": "markdown",
      "metadata": {
        "id": "nEhARH_elj1T",
        "colab_type": "text"
      },
      "source": [
        " Write a program that reads a date from the user and computes its immediate successor. The date is the format YYYY-MM-DD. So, 2020-04-15 will have the successor 2020-04-16."
      ]
    },
    {
      "cell_type": "code",
      "metadata": {
        "id": "2ZiaY8WYlraF",
        "colab_type": "code",
        "colab": {
          "base_uri": "https://localhost:8080/",
          "height": 85
        },
        "outputId": "be2f1813-a6de-4a83-bf4b-da10d308178a"
      },
      "source": [
        " \n",
        "year=int(input(\"enter year\"))\n",
        " \n",
        "if year%4==0:\n",
        " \n",
        "  leap_year=True\n",
        " \n",
        "else:\n",
        " \n",
        "  leap_year=False\n",
        " \n",
        "month=int(input(\"enter month\"))\n",
        " \n",
        "if month in(1,3,5,7,9,11):\n",
        " \n",
        "  month_length=31\n",
        " \n",
        "elif month in(4,6,8,10,12):\n",
        " \n",
        "  month_lenth=30\n",
        " \n",
        "else:\n",
        " \n",
        "  if leap_year:\n",
        " \n",
        "    month_length=29\n",
        " \n",
        "  else:\n",
        " \n",
        "    month_length=28\n",
        " \n",
        "day=int(input(\"enter day\"))\n",
        " \n",
        "if day < month_length:\n",
        " \n",
        "    day = day+1\n",
        " \n",
        "else:\n",
        " \n",
        "    day = 1\n",
        " \n",
        "    if month == 13:\n",
        " \n",
        "        month = 1\n",
        " \n",
        "        year= year+1\n",
        " \n",
        "    else:\n",
        " \n",
        "        month = 1\n",
        " \n",
        "print(\" [yyyy-mm-dd] %d-%d-%d.\" % (year, month, day))"
      ],
      "execution_count": null,
      "outputs": [
        {
          "output_type": "stream",
          "text": [
            "enter year2020\n",
            "enter month2\n",
            "enter day28\n",
            " [yyyy-mm-dd] 2020-2-29.\n"
          ],
          "name": "stdout"
        }
      ]
    },
    {
      "cell_type": "markdown",
      "metadata": {
        "id": "d1xbkPMxoqCs",
        "colab_type": "text"
      },
      "source": [
        " Compute product of a list of numbers [45 ,3,2,89,72,1,10,7]\n",
        "Output: 121111200"
      ]
    },
    {
      "cell_type": "code",
      "metadata": {
        "id": "fRQCbuEJow8g",
        "colab_type": "code",
        "colab": {
          "base_uri": "https://localhost:8080/",
          "height": 34
        },
        "outputId": "d216d828-4464-48ce-c0fe-7ab067a43a34"
      },
      "source": [
        " \n",
        "l=[45,3,2,89,72,1,10,7]\n",
        "mul=1\n",
        " for i in l:\n",
        "  mul= mul*i\n",
        " print(mul)"
      ],
      "execution_count": null,
      "outputs": [
        {
          "output_type": "stream",
          "text": [
            "121111200\n"
          ],
          "name": "stdout"
        }
      ]
    },
    {
      "cell_type": "markdown",
      "metadata": {
        "id": "xGSWzGNfqvhk",
        "colab_type": "text"
      },
      "source": [
        " Compute given Num_list =  [5, 6,8 ,34,89,1] to get desired output\n",
        "Output: Out_list=[11,14,42,123,90]"
      ]
    },
    {
      "cell_type": "code",
      "metadata": {
        "id": "tlVWLvxSq1p8",
        "colab_type": "code",
        "colab": {
          "base_uri": "https://localhost:8080/",
          "height": 34
        },
        "outputId": "deea7795-dba5-42d9-c76b-c226e6047ce3"
      },
      "source": [
        " \n",
        "l=[5,6,8,34,89,1]\n",
        "l1=[]\n",
        "for i in range(len(l)-1):\n",
        "  s=l[i]+l[i+1]\n",
        "  l1.append(s) \n",
        "print(l1)"
      ],
      "execution_count": null,
      "outputs": [
        {
          "output_type": "stream",
          "text": [
            "[11, 14, 42, 123, 90]\n"
          ],
          "name": "stdout"
        }
      ]
    },
    {
      "cell_type": "markdown",
      "metadata": {
        "id": "hDmLE2HRrUCa",
        "colab_type": "text"
      },
      "source": [
        "  Compute given Num_tuple =  (5, 6,8 ,3,9,1) to get desired output\n",
        "Output: Out_list = [5, 30, 240, 720, 6480, 6480]"
      ]
    },
    {
      "cell_type": "code",
      "metadata": {
        "id": "DuD8XoEarZqo",
        "colab_type": "code",
        "colab": {
          "base_uri": "https://localhost:8080/",
          "height": 34
        },
        "outputId": "5f53c99d-c3ec-415b-d84c-d3a252e1d485"
      },
      "source": [
        " \n",
        "l=[5,6,8,3,9,1]\n",
        "l1=[]\n",
        "s=1\n",
        "for i in range(len(l)):\n",
        "  s=s*l[i]\n",
        "  l1.append(s) \n",
        "print(l1)"
      ],
      "execution_count": null,
      "outputs": [
        {
          "output_type": "stream",
          "text": [
            "[5, 30, 240, 720, 6480, 6480]\n"
          ],
          "name": "stdout"
        }
      ]
    },
    {
      "cell_type": "markdown",
      "metadata": {
        "id": "xBo8gMD1tCRx",
        "colab_type": "text"
      },
      "source": [
        "  Write a Python code that takes a number and returns a list of its digits. So for 586392 it should return [5,8,6,3,9,2]"
      ]
    },
    {
      "cell_type": "code",
      "metadata": {
        "id": "KRkC_Bm-yc5B",
        "colab_type": "code",
        "colab": {
          "base_uri": "https://localhost:8080/",
          "height": 34
        },
        "outputId": "b86e30c0-9dbd-4ee0-8143-bb702c5ae02c"
      },
      "source": [
        " \n",
        "n = str(input(\"Enter the number: \"))\n",
        " \n",
        "c = str(n)\n",
        " \n",
        "list=[]\n",
        " \n",
        "for i in range(len(c)):\n",
        " \n",
        "    list.append(int(c[i]))\n",
        " \n",
        "print(list)"
      ],
      "execution_count": null,
      "outputs": [
        {
          "output_type": "stream",
          "text": [
            "[5, 8, 6, 3, 9, 2]\n"
          ],
          "name": "stdout"
        }
      ]
    },
    {
      "cell_type": "markdown",
      "metadata": {
        "id": "G7akG8b0yoLV",
        "colab_type": "text"
      },
      "source": [
        " Write a program that finds the longest palindromic substring of a given string"
      ]
    },
    {
      "cell_type": "code",
      "metadata": {
        "id": "PYKD8E65zgZY",
        "colab_type": "code",
        "colab": {
          "base_uri": "https://localhost:8080/",
          "height": 51
        },
        "outputId": "0e945289-3cc9-421d-ba40-72d105ddeb2d"
      },
      "source": [
        " \n",
        "def longestpalindrome(n):\n",
        " \n",
        "   d=[[False for i in range(len(n))] for i in range(len(n))]\n",
        " \n",
        "   for i in range(len(n)):\n",
        " \n",
        "    d[i][i]=True\n",
        " \n",
        "   maxlen=1\n",
        " \n",
        "   start=0\n",
        " \n",
        "   for j in range(2,len(n)+1):\n",
        " \n",
        "     for i in range(len(n)-j+1):\n",
        " \n",
        "        end=i+j\n",
        " \n",
        "        if j==2:\n",
        " \n",
        "          if n[i]==n[end-1]:\n",
        " \n",
        "           d[i][end-1]=True\n",
        " \n",
        "           maxlen=j\n",
        " \n",
        "           start=i\n",
        " \n",
        "        else:\n",
        " \n",
        "          if n[i]==n[end-1] and d[i+1][end-2]:\n",
        " \n",
        "           d[i][end-1]=True\n",
        " \n",
        "           maxlen=j\n",
        " \n",
        "           start=i\n",
        " \n",
        "   return n[start:start+maxlen]\n",
        " \n",
        "n=input(\"Enter a string\")\n",
        " \n",
        "print(longestpalindrome(n))"
      ],
      "execution_count": null,
      "outputs": [
        {
          "output_type": "stream",
          "text": [
            "Enter a stringForgreekkeergor\n",
            "greekkeerg\n"
          ],
          "name": "stdout"
        }
      ]
    },
    {
      "cell_type": "markdown",
      "metadata": {
        "id": "uxAG8oE64x5u",
        "colab_type": "text"
      },
      "source": [
        " Substring Check (Bug Funny)\n",
        "Given two binary strings, A (of length 10) and B (of length 5), output 1 if B is a substring of A and 0 otherwise.\n",
        "First two lines of input:\n",
        " \n",
        "1010110010          10110\n",
        "1110111011           10011\n",
        "First two lines of output:\n",
        "1\n",
        "0"
      ]
    },
    {
      "cell_type": "code",
      "metadata": {
        "id": "9ntVYfUE8LxH",
        "colab_type": "code",
        "colab": {
          "base_uri": "https://localhost:8080/",
          "height": 71
        },
        "outputId": "f3542583-cb17-41c3-de36-a04e8fb13c82"
      },
      "source": [
        " \n",
        "A,B= input(\"enter binary string of length 10 and 5:\").split()\n",
        " \n",
        "if (A.find(B) == -1):\n",
        " \n",
        "  print(\"Output=0\")\n",
        " \n",
        "else: \n",
        " \n",
        "  print(\"Output=1\")"
      ],
      "execution_count": null,
      "outputs": [
        {
          "output_type": "stream",
          "text": [
            "enter binary string of length 10 and 5:1110111011 10011\n",
            "Output=0\n"
          ],
          "name": "stdout"
        }
      ]
    },
    {
      "cell_type": "markdown",
      "metadata": {
        "id": "wVQ5_pYK_VC3",
        "colab_type": "text"
      },
      "source": [
        "   POUR1 - Pouring water\n",
        "Given two vessels, one of which can accommodate a litres of water and the other - b litres of water, determine the number of steps required to obtain exactly c litres of water in one of the vessels.\n",
        "At the beginning both vessels are empty. The following operations are counted as 'steps':\n",
        "emptying a vessel,\n",
        "filling a vessel,\n",
        "pouring water from one vessel to the other, without spilling, until one of the vessels is either full or empty.\n",
        "Input\n",
        "An integer t, 1<=t<=100, denoting the number of testcases , followed by t sets of input data, each consisting of three positive integers a, b, c, not larger than 40000, given in separate lines.\n",
        "Output\n",
        "For each set of input data, output the minimum number of steps required to obtain c litres, or -1 if this is impossible.\n",
        " \n",
        "Example\n",
        "Sample input:\n",
        "2\n",
        "5\n",
        "2\n",
        "3\n",
        "2\n",
        "3\n",
        "4\n",
        " \n",
        "Sample output:\n",
        "2\n",
        "-1"
      ]
    },
    {
      "cell_type": "code",
      "metadata": {
        "id": "mTsK6asxDxVn",
        "colab_type": "code",
        "colab": {
          "base_uri": "https://localhost:8080/",
          "height": 102
        },
        "outputId": "62c377ab-e11f-4570-91c9-9f0b6beba5d0"
      },
      "source": [
        " \n",
        "t=int(input(\"enter test cases\"))\n",
        " \n",
        "for i in range(0,t):\n",
        " \n",
        "  a, b, c=map(int,input().split())\n",
        " \n",
        "  if a>b:\n",
        " \n",
        "    d=a-b\n",
        " \n",
        "  elif b>a:\n",
        " \n",
        "    d=b-a\n",
        " \n",
        "  if c==a or c==b:\n",
        " \n",
        "    print(\"1\")\n",
        " \n",
        "  elif d==c:\n",
        " \n",
        "    print(\"2\")\n",
        " \n",
        "  else:\n",
        " \n",
        "    print(-1)"
      ],
      "execution_count": null,
      "outputs": [
        {
          "output_type": "stream",
          "text": [
            "enter test cases2\n",
            "5 2 3\n",
            "2\n",
            "2 3 4\n",
            "-1\n"
          ],
          "name": "stdout"
        }
      ]
    }
  ]
}